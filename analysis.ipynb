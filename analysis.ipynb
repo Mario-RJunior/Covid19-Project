{
 "nbformat": 4,
 "nbformat_minor": 2,
 "metadata": {
  "language_info": {
   "name": "python",
   "codemirror_mode": {
    "name": "ipython",
    "version": 3
   },
   "version": "3.7.7-final"
  },
  "orig_nbformat": 2,
  "file_extension": ".py",
  "mimetype": "text/x-python",
  "name": "python",
  "npconvert_exporter": "python",
  "pygments_lexer": "ipython3",
  "version": 3,
  "kernelspec": {
   "name": "python37764bitml2condac5c8214fecce4af0aacfcafaac4bdc1e",
   "display_name": "Python 3.7.7 64-bit ('ML2': conda)"
  }
 },
 "cells": [
  {
   "cell_type": "markdown",
   "metadata": {},
   "source": [
    "# Covid-19 Analysis"
   ]
  },
  {
   "cell_type": "code",
   "execution_count": 1,
   "metadata": {},
   "outputs": [],
   "source": [
    "import pandas as pd\n",
    "import numpy as np\n",
    "import matplotlib.pyplot as plt\n",
    "import seaborn as sns\n",
    "import warnings\n",
    "warnings.filterwarnings('ignore')\n",
    "%matplotlib inline"
   ]
  },
  {
   "cell_type": "code",
   "execution_count": 2,
   "metadata": {},
   "outputs": [
    {
     "output_type": "execute_result",
     "data": {
      "text/plain": "   Id Province_State Country_Region        Date  ConfirmedCases  Fatalities\n0   1            NaN    Afghanistan  2020-01-22             0.0         0.0\n1   2            NaN    Afghanistan  2020-01-23             0.0         0.0\n2   3            NaN    Afghanistan  2020-01-24             0.0         0.0\n3   4            NaN    Afghanistan  2020-01-25             0.0         0.0\n4   5            NaN    Afghanistan  2020-01-26             0.0         0.0",
      "text/html": "<div>\n<style scoped>\n    .dataframe tbody tr th:only-of-type {\n        vertical-align: middle;\n    }\n\n    .dataframe tbody tr th {\n        vertical-align: top;\n    }\n\n    .dataframe thead th {\n        text-align: right;\n    }\n</style>\n<table border=\"1\" class=\"dataframe\">\n  <thead>\n    <tr style=\"text-align: right;\">\n      <th></th>\n      <th>Id</th>\n      <th>Province_State</th>\n      <th>Country_Region</th>\n      <th>Date</th>\n      <th>ConfirmedCases</th>\n      <th>Fatalities</th>\n    </tr>\n  </thead>\n  <tbody>\n    <tr>\n      <th>0</th>\n      <td>1</td>\n      <td>NaN</td>\n      <td>Afghanistan</td>\n      <td>2020-01-22</td>\n      <td>0.0</td>\n      <td>0.0</td>\n    </tr>\n    <tr>\n      <th>1</th>\n      <td>2</td>\n      <td>NaN</td>\n      <td>Afghanistan</td>\n      <td>2020-01-23</td>\n      <td>0.0</td>\n      <td>0.0</td>\n    </tr>\n    <tr>\n      <th>2</th>\n      <td>3</td>\n      <td>NaN</td>\n      <td>Afghanistan</td>\n      <td>2020-01-24</td>\n      <td>0.0</td>\n      <td>0.0</td>\n    </tr>\n    <tr>\n      <th>3</th>\n      <td>4</td>\n      <td>NaN</td>\n      <td>Afghanistan</td>\n      <td>2020-01-25</td>\n      <td>0.0</td>\n      <td>0.0</td>\n    </tr>\n    <tr>\n      <th>4</th>\n      <td>5</td>\n      <td>NaN</td>\n      <td>Afghanistan</td>\n      <td>2020-01-26</td>\n      <td>0.0</td>\n      <td>0.0</td>\n    </tr>\n  </tbody>\n</table>\n</div>"
     },
     "metadata": {},
     "execution_count": 2
    }
   ],
   "source": [
    "df = pd.read_csv('train.csv')\n",
    "df.head()"
   ]
  },
  {
   "cell_type": "code",
   "execution_count": 3,
   "metadata": {},
   "outputs": [
    {
     "output_type": "execute_result",
     "data": {
      "text/plain": "Id                    0\nProvince_State    13376\nCountry_Region        0\nDate                  0\nConfirmedCases        0\nFatalities            0\ndtype: int64"
     },
     "metadata": {},
     "execution_count": 3
    }
   ],
   "source": [
    "df.isnull().sum()"
   ]
  },
  {
   "cell_type": "code",
   "execution_count": 4,
   "metadata": {},
   "outputs": [
    {
     "output_type": "execute_result",
     "data": {
      "text/plain": "Id                  int64\nProvince_State     object\nCountry_Region     object\nDate               object\nConfirmedCases    float64\nFatalities        float64\ndtype: object"
     },
     "metadata": {},
     "execution_count": 4
    }
   ],
   "source": [
    "df.dtypes"
   ]
  },
  {
   "cell_type": "code",
   "execution_count": 5,
   "metadata": {},
   "outputs": [
    {
     "output_type": "stream",
     "name": "stdout",
     "text": "<class 'pandas.core.frame.DataFrame'>\nRangeIndex: 23256 entries, 0 to 23255\nData columns (total 6 columns):\n #   Column          Non-Null Count  Dtype  \n---  ------          --------------  -----  \n 0   Id              23256 non-null  int64  \n 1   Province_State  9880 non-null   object \n 2   Country_Region  23256 non-null  object \n 3   Date            23256 non-null  object \n 4   ConfirmedCases  23256 non-null  float64\n 5   Fatalities      23256 non-null  float64\ndtypes: float64(2), int64(1), object(3)\nmemory usage: 1.1+ MB\n"
    }
   ],
   "source": [
    "df.info()"
   ]
  },
  {
   "cell_type": "code",
   "execution_count": 6,
   "metadata": {},
   "outputs": [
    {
     "output_type": "execute_result",
     "data": {
      "text/plain": "                 Id  ConfirmedCases    Fatalities\ncount  23256.000000    23256.000000  23256.000000\nmean   16356.000000      750.543946     34.440746\nstd     9451.979462     6008.725072    438.508692\nmin        1.000000        0.000000      0.000000\n25%     8170.750000        0.000000      0.000000\n50%    16356.000000        0.000000      0.000000\n75%    24541.250000       67.000000      0.000000\nmax    32711.000000   136675.000000  16523.000000",
      "text/html": "<div>\n<style scoped>\n    .dataframe tbody tr th:only-of-type {\n        vertical-align: middle;\n    }\n\n    .dataframe tbody tr th {\n        vertical-align: top;\n    }\n\n    .dataframe thead th {\n        text-align: right;\n    }\n</style>\n<table border=\"1\" class=\"dataframe\">\n  <thead>\n    <tr style=\"text-align: right;\">\n      <th></th>\n      <th>Id</th>\n      <th>ConfirmedCases</th>\n      <th>Fatalities</th>\n    </tr>\n  </thead>\n  <tbody>\n    <tr>\n      <th>count</th>\n      <td>23256.000000</td>\n      <td>23256.000000</td>\n      <td>23256.000000</td>\n    </tr>\n    <tr>\n      <th>mean</th>\n      <td>16356.000000</td>\n      <td>750.543946</td>\n      <td>34.440746</td>\n    </tr>\n    <tr>\n      <th>std</th>\n      <td>9451.979462</td>\n      <td>6008.725072</td>\n      <td>438.508692</td>\n    </tr>\n    <tr>\n      <th>min</th>\n      <td>1.000000</td>\n      <td>0.000000</td>\n      <td>0.000000</td>\n    </tr>\n    <tr>\n      <th>25%</th>\n      <td>8170.750000</td>\n      <td>0.000000</td>\n      <td>0.000000</td>\n    </tr>\n    <tr>\n      <th>50%</th>\n      <td>16356.000000</td>\n      <td>0.000000</td>\n      <td>0.000000</td>\n    </tr>\n    <tr>\n      <th>75%</th>\n      <td>24541.250000</td>\n      <td>67.000000</td>\n      <td>0.000000</td>\n    </tr>\n    <tr>\n      <th>max</th>\n      <td>32711.000000</td>\n      <td>136675.000000</td>\n      <td>16523.000000</td>\n    </tr>\n  </tbody>\n</table>\n</div>"
     },
     "metadata": {},
     "execution_count": 6
    }
   ],
   "source": [
    "df.describe()"
   ]
  },
  {
   "cell_type": "markdown",
   "metadata": {},
   "source": [
    "First of all we're going to convert column \"Date\" to datetime format and check if that convertion has worked."
   ]
  },
  {
   "cell_type": "code",
   "execution_count": 7,
   "metadata": {},
   "outputs": [],
   "source": [
    "df['Date'] = pd.to_datetime(df['Date'])"
   ]
  },
  {
   "cell_type": "code",
   "execution_count": 8,
   "metadata": {},
   "outputs": [
    {
     "output_type": "execute_result",
     "data": {
      "text/plain": "Id                         int64\nProvince_State            object\nCountry_Region            object\nDate              datetime64[ns]\nConfirmedCases           float64\nFatalities               float64\ndtype: object"
     },
     "metadata": {},
     "execution_count": 8
    }
   ],
   "source": [
    "df.dtypes"
   ]
  },
  {
   "cell_type": "markdown",
   "metadata": {},
   "source": [
    "#### Add some columns"
   ]
  },
  {
   "cell_type": "markdown",
   "metadata": {},
   "source": [
    "Now we're going to add some columns in order to get informations easyer. First, we'll add a \"Month\" column to filter the exactly month the problem occurs. Then, we're going to add two new columns to explicitly show how many occurrences there were by day: \"ConfirmedCases-Day\" and \"Fatalities-Day\" (note that thoses quantities have been added since day one and that shows the overall number). In addition, it'll be very helpfull to treat missing values on \"Province_State\" column by filling in with \"Other\", which represents all those unknown places Covid-19 has been detected."
   ]
  },
  {
   "cell_type": "code",
   "execution_count": 9,
   "metadata": {},
   "outputs": [],
   "source": [
    "meses = []\n",
    "for date in df['Date']:\n",
    "    meses.append(date.month)"
   ]
  },
  {
   "cell_type": "code",
   "execution_count": 10,
   "metadata": {},
   "outputs": [],
   "source": [
    "df['Month'] = meses\n",
    "df['Province_State'].fillna('Other', inplace=True)"
   ]
  },
  {
   "cell_type": "markdown",
   "metadata": {},
   "source": [
    "Finally, let's add \"ConfirmedCases-Day\" and \"Fatalities-Day\" columns using the function below. "
   ]
  },
  {
   "cell_type": "code",
   "execution_count": 11,
   "metadata": {},
   "outputs": [],
   "source": [
    "def adiciona_colunas(dataframe, coluna, nova_coluna):\n",
    "    dados = []\n",
    "    for pais in dataframe['Country_Region'].unique():\n",
    "        df_pais = dataframe[dataframe['Country_Region'] == pais] # Dataframe dos paises\n",
    "        for provincia in df_pais['Province_State'].unique():\n",
    "            dados_provincia = df_pais[df_pais['Province_State'] == provincia] # Dataframe das províncias\n",
    "            lista = list(dados_provincia[coluna])\n",
    "            a0 = df_pais[df_pais['Province_State'] == provincia][coluna].values[0]\n",
    "            for c in range(0, len(lista)):\n",
    "                if c == 0:\n",
    "                    dados.append(a0)\n",
    "                else:\n",
    "                    a1 = lista[c]\n",
    "                    a2 = a1 - a0\n",
    "                    if a2 > 0:\n",
    "                        dados.append(a2)\n",
    "                    else:\n",
    "                        a2 = 0\n",
    "                        dados.append(a2)\n",
    "                    a0 = a1\n",
    "    dataframe[nova_coluna] = dados"
   ]
  },
  {
   "cell_type": "code",
   "execution_count": 12,
   "metadata": {},
   "outputs": [],
   "source": [
    "adiciona_colunas(df, 'ConfirmedCases', 'ConfirmedCases-Day')\n",
    "adiciona_colunas(df, 'Fatalities', 'Fatalities-Day')"
   ]
  },
  {
   "cell_type": "markdown",
   "metadata": {},
   "source": [
    "Let's check the new dataframe now. "
   ]
  },
  {
   "cell_type": "code",
   "execution_count": 13,
   "metadata": {},
   "outputs": [
    {
     "output_type": "execute_result",
     "data": {
      "text/plain": "          Id Province_State Country_Region       Date  ConfirmedCases  \\\n0          1          Other    Afghanistan 2020-01-22             0.0   \n1          2          Other    Afghanistan 2020-01-23             0.0   \n2          3          Other    Afghanistan 2020-01-24             0.0   \n3          4          Other    Afghanistan 2020-01-25             0.0   \n4          5          Other    Afghanistan 2020-01-26             0.0   \n...      ...            ...            ...        ...             ...   \n23251  32707          Other       Zimbabwe 2020-04-02             9.0   \n23252  32708          Other       Zimbabwe 2020-04-03             9.0   \n23253  32709          Other       Zimbabwe 2020-04-04             9.0   \n23254  32710          Other       Zimbabwe 2020-04-05             9.0   \n23255  32711          Other       Zimbabwe 2020-04-06            10.0   \n\n       Fatalities  Month  ConfirmedCases-Day  Fatalities-Day  \n0             0.0      1                 0.0             0.0  \n1             0.0      1                 0.0             0.0  \n2             0.0      1                 0.0             0.0  \n3             0.0      1                 0.0             0.0  \n4             0.0      1                 0.0             0.0  \n...           ...    ...                 ...             ...  \n23251         1.0      4                 1.0             0.0  \n23252         1.0      4                 0.0             0.0  \n23253         1.0      4                 0.0             0.0  \n23254         1.0      4                 0.0             0.0  \n23255         1.0      4                 1.0             0.0  \n\n[23256 rows x 9 columns]",
      "text/html": "<div>\n<style scoped>\n    .dataframe tbody tr th:only-of-type {\n        vertical-align: middle;\n    }\n\n    .dataframe tbody tr th {\n        vertical-align: top;\n    }\n\n    .dataframe thead th {\n        text-align: right;\n    }\n</style>\n<table border=\"1\" class=\"dataframe\">\n  <thead>\n    <tr style=\"text-align: right;\">\n      <th></th>\n      <th>Id</th>\n      <th>Province_State</th>\n      <th>Country_Region</th>\n      <th>Date</th>\n      <th>ConfirmedCases</th>\n      <th>Fatalities</th>\n      <th>Month</th>\n      <th>ConfirmedCases-Day</th>\n      <th>Fatalities-Day</th>\n    </tr>\n  </thead>\n  <tbody>\n    <tr>\n      <th>0</th>\n      <td>1</td>\n      <td>Other</td>\n      <td>Afghanistan</td>\n      <td>2020-01-22</td>\n      <td>0.0</td>\n      <td>0.0</td>\n      <td>1</td>\n      <td>0.0</td>\n      <td>0.0</td>\n    </tr>\n    <tr>\n      <th>1</th>\n      <td>2</td>\n      <td>Other</td>\n      <td>Afghanistan</td>\n      <td>2020-01-23</td>\n      <td>0.0</td>\n      <td>0.0</td>\n      <td>1</td>\n      <td>0.0</td>\n      <td>0.0</td>\n    </tr>\n    <tr>\n      <th>2</th>\n      <td>3</td>\n      <td>Other</td>\n      <td>Afghanistan</td>\n      <td>2020-01-24</td>\n      <td>0.0</td>\n      <td>0.0</td>\n      <td>1</td>\n      <td>0.0</td>\n      <td>0.0</td>\n    </tr>\n    <tr>\n      <th>3</th>\n      <td>4</td>\n      <td>Other</td>\n      <td>Afghanistan</td>\n      <td>2020-01-25</td>\n      <td>0.0</td>\n      <td>0.0</td>\n      <td>1</td>\n      <td>0.0</td>\n      <td>0.0</td>\n    </tr>\n    <tr>\n      <th>4</th>\n      <td>5</td>\n      <td>Other</td>\n      <td>Afghanistan</td>\n      <td>2020-01-26</td>\n      <td>0.0</td>\n      <td>0.0</td>\n      <td>1</td>\n      <td>0.0</td>\n      <td>0.0</td>\n    </tr>\n    <tr>\n      <th>...</th>\n      <td>...</td>\n      <td>...</td>\n      <td>...</td>\n      <td>...</td>\n      <td>...</td>\n      <td>...</td>\n      <td>...</td>\n      <td>...</td>\n      <td>...</td>\n    </tr>\n    <tr>\n      <th>23251</th>\n      <td>32707</td>\n      <td>Other</td>\n      <td>Zimbabwe</td>\n      <td>2020-04-02</td>\n      <td>9.0</td>\n      <td>1.0</td>\n      <td>4</td>\n      <td>1.0</td>\n      <td>0.0</td>\n    </tr>\n    <tr>\n      <th>23252</th>\n      <td>32708</td>\n      <td>Other</td>\n      <td>Zimbabwe</td>\n      <td>2020-04-03</td>\n      <td>9.0</td>\n      <td>1.0</td>\n      <td>4</td>\n      <td>0.0</td>\n      <td>0.0</td>\n    </tr>\n    <tr>\n      <th>23253</th>\n      <td>32709</td>\n      <td>Other</td>\n      <td>Zimbabwe</td>\n      <td>2020-04-04</td>\n      <td>9.0</td>\n      <td>1.0</td>\n      <td>4</td>\n      <td>0.0</td>\n      <td>0.0</td>\n    </tr>\n    <tr>\n      <th>23254</th>\n      <td>32710</td>\n      <td>Other</td>\n      <td>Zimbabwe</td>\n      <td>2020-04-05</td>\n      <td>9.0</td>\n      <td>1.0</td>\n      <td>4</td>\n      <td>0.0</td>\n      <td>0.0</td>\n    </tr>\n    <tr>\n      <th>23255</th>\n      <td>32711</td>\n      <td>Other</td>\n      <td>Zimbabwe</td>\n      <td>2020-04-06</td>\n      <td>10.0</td>\n      <td>1.0</td>\n      <td>4</td>\n      <td>1.0</td>\n      <td>0.0</td>\n    </tr>\n  </tbody>\n</table>\n<p>23256 rows × 9 columns</p>\n</div>"
     },
     "metadata": {},
     "execution_count": 13
    }
   ],
   "source": [
    "df"
   ]
  },
  {
   "cell_type": "markdown",
   "metadata": {},
   "source": [
    "That is the dataframe we'll use from now on."
   ]
  },
  {
   "cell_type": "code",
   "execution_count": null,
   "metadata": {},
   "outputs": [],
   "source": []
  }
 ]
}